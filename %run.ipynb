{
 "cells": [
  {
   "cell_type": "markdown",
   "metadata": {},
   "source": [
    "# %run"
   ]
  },
  {
   "cell_type": "code",
   "execution_count": 1,
   "metadata": {},
   "outputs": [
    {
     "name": "stdout",
     "output_type": "stream",
     "text": [
      "Mark\n",
      "Ace\n",
      "Mark\n",
      "thanks for your input\n",
      "175\n",
      "30\n",
      "100\n",
      "twenty\n",
      "20\n",
      "6\n"
     ]
    }
   ],
   "source": [
    "%run temp.py"
   ]
  },
  {
   "cell_type": "code",
   "execution_count": null,
   "metadata": {},
   "outputs": [],
   "source": [
    "# %load temp.py\n",
    "name = \"Mark\" # python variable is created this way.\n",
    "print(name) # pyton displaying.\n",
    "\n",
    "name = \"Mark\"\n",
    "name = \"Ace\" # python could change the value inside the variable.\n",
    "print(name)\n",
    "\n",
    "floggle = \"Mark\" # instead of writing name = \"Mark\", floggle = \"Mark\" is also acceptable beacause python is blind to semantics\n",
    "print(floggle)\n",
    "\n",
    "thnx = \"thanks for your input\"\n",
    "print(thnx)\n",
    "\n",
    "weight=150 # unlike strings number is not enclosed is quotes\n",
    "print(weight+25)\n",
    "\n",
    "original_num = 23\n",
    "num_to_be_added = 7\n",
    "new_num = original_num + num_to_be_added  # python can do calculation totally based on variable\n",
    "print(new_num)\n",
    "\n",
    "original_num = 90\n",
    "original_num = original_num + 10 # a variable can be used to calculate its own new value\n",
    "print(original_num)\n",
    "\n",
    "your_age = \"twenty\"\n",
    "print(your_age)\n",
    "your_age = 20 # A variable in python could change its type\n",
    "print(your_age)\n",
    "\n",
    "a,b=2,3\n",
    "c = a*b\n",
    "print(c)\n"
   ]
  },
  {
   "cell_type": "code",
   "execution_count": null,
   "metadata": {},
   "outputs": [],
   "source": []
  }
 ],
 "metadata": {
  "kernelspec": {
   "display_name": "Python 3",
   "language": "python",
   "name": "python3"
  },
  "language_info": {
   "codemirror_mode": {
    "name": "ipython",
    "version": 3
   },
   "file_extension": ".py",
   "mimetype": "text/x-python",
   "name": "python",
   "nbconvert_exporter": "python",
   "pygments_lexer": "ipython3",
   "version": "3.7.3"
  }
 },
 "nbformat": 4,
 "nbformat_minor": 2
}
