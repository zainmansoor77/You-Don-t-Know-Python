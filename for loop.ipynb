{
 "cells": [
  {
   "cell_type": "markdown",
   "metadata": {},
   "source": [
    "# for loop"
   ]
  },
  {
   "cell_type": "code",
   "execution_count": 3,
   "metadata": {},
   "outputs": [
    {
     "name": "stdout",
     "output_type": "stream",
     "text": [
      "enter the name of city you want to check whether it's amongst the cleanest cities or not: Tucson\n",
      "It's one of the cleanest cities\n"
     ]
    }
   ],
   "source": [
    "cleanest_cities = [\"Cheyenne\", \"Santa Fe\", \"Tucson\",\"Great Falls\", \"Honolulu\"]\n",
    "city_to_check = input(\"enter the name of city you want to check whether it's amongst the cleanest cities or not: \")\n",
    "for a_clean_city in cleanest_cities:\n",
    "     if city_to_check == a_clean_city:\n",
    "        print(\"It's one of the cleanest cities\")\n",
    "        break"
   ]
  },
  {
   "cell_type": "code",
   "execution_count": 9,
   "metadata": {},
   "outputs": [
    {
     "name": "stdout",
     "output_type": "stream",
     "text": [
      "['BlueRay  Zzz', 'BlueRay  Burp', 'BlueRay  Dogbone', 'BlueRay  Droop', 'Upchuck  Zzz', 'Upchuck  Burp', 'Upchuck  Dogbone', 'Upchuck  Droop', 'Lojack  Zzz', 'Lojack  Burp', 'Lojack  Dogbone', 'Lojack  Droop', 'Gizmo  Zzz', 'Gizmo  Burp', 'Gizmo  Dogbone', 'Gizmo  Droop', 'Do-Rag  Zzz', 'Do-Rag  Burp', 'Do-Rag  Dogbone', 'Do-Rag  Droop']\n"
     ]
    }
   ],
   "source": [
    "first_names = [\"BlueRay \", \"Upchuck \", \"Lojack \",\"Gizmo \", \"Do-Rag \"]\n",
    "last_names = [\"Zzz\", \"Burp\", \"Dogbone\", \"Droop\"]\n",
    "full_names = []\n",
    "for a_first_name in first_names:\n",
    "    for a_last_name in last_names:\n",
    "        full_names.append(a_first_name + \" \" +a_last_name)\n",
    "print(full_names)        "
   ]
  },
  {
   "cell_type": "code",
   "execution_count": 13,
   "metadata": {},
   "outputs": [
    {
     "name": "stdout",
     "output_type": "stream",
     "text": [
      "ok\n"
     ]
    }
   ],
   "source": [
    "nums = (1, 2, 3, 4, 5, 6)\n",
    "strings = (\"a\", \"b\", \"c\", \"d\", \"e\")\n",
    "for a in nums:\n",
    "    for c in strings:\n",
    "        if a == 4 and c ==\"b\":\n",
    "            print(\"ok\")\n"
   ]
  },
  {
   "cell_type": "code",
   "execution_count": null,
   "metadata": {},
   "outputs": [],
   "source": []
  }
 ],
 "metadata": {
  "kernelspec": {
   "display_name": "Python 3",
   "language": "python",
   "name": "python3"
  },
  "language_info": {
   "codemirror_mode": {
    "name": "ipython",
    "version": 3
   },
   "file_extension": ".py",
   "mimetype": "text/x-python",
   "name": "python",
   "nbconvert_exporter": "python",
   "pygments_lexer": "ipython3",
   "version": "3.7.3"
  }
 },
 "nbformat": 4,
 "nbformat_minor": 2
}
