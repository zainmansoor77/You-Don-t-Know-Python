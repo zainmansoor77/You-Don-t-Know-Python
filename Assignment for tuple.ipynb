{
 "cells": [
  {
   "cell_type": "markdown",
   "metadata": {},
   "source": [
    "# Assignment for tuple"
   ]
  },
  {
   "cell_type": "code",
   "execution_count": 4,
   "metadata": {},
   "outputs": [
    {
     "name": "stdout",
     "output_type": "stream",
     "text": [
      "Enter file: mbox-short.txt\n",
      "04 3\n",
      "06 1\n",
      "07 1\n",
      "09 2\n",
      "10 3\n",
      "11 6\n",
      "14 1\n",
      "15 2\n",
      "16 4\n",
      "17 2\n",
      "18 1\n",
      "19 1\n"
     ]
    }
   ],
   "source": [
    "\"\"\"\n",
    "10.2 Write a program to read through the mbox-short.txt and figure out the distribution by hour of the day for each of \n",
    "the messages. You can pull the hour out from the 'From ' line by finding the time and then splitting the string a second\n",
    "time using a colon.\n",
    "From stephen.marquard@uct.ac.za Sat Jan  5 09:14:16 2008\n",
    "Once you have accumulated the counts for each hour, print out the counts, sorted by hour as shown below.\n",
    "\"\"\"\n",
    "d = dict()\n",
    "l1 = list()\n",
    "name = input(\"Enter file: \")\n",
    "#if len(name) < 1 : name = \"mbox-short.txt\"\n",
    "handle = open(name)\n",
    "for l in handle:\n",
    "    if l.startswith(\"From \"):\n",
    "        l = l.strip()\n",
    "        a = l.split()\n",
    "        b = a[5].split(\":\")\n",
    "        c = b[0]\n",
    "        if c not in d:\n",
    "            d[c] = 1\n",
    "        else:\n",
    "            d[c] = d[c] + 1\n",
    "for x,y in d.items():\n",
    "    l1.append((x,y))\n",
    "l1.sort()\n",
    "for x,y in l1:\n",
    "    print(x,y)\n",
    "    \n",
    "    \n",
    "        "
   ]
  },
  {
   "cell_type": "code",
   "execution_count": null,
   "metadata": {},
   "outputs": [],
   "source": []
  }
 ],
 "metadata": {
  "kernelspec": {
   "display_name": "Python 3",
   "language": "python",
   "name": "python3"
  },
  "language_info": {
   "codemirror_mode": {
    "name": "ipython",
    "version": 3
   },
   "file_extension": ".py",
   "mimetype": "text/x-python",
   "name": "python",
   "nbconvert_exporter": "python",
   "pygments_lexer": "ipython3",
   "version": "3.7.3"
  }
 },
 "nbformat": 4,
 "nbformat_minor": 2
}
