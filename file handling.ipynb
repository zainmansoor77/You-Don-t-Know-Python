{
 "cells": [
  {
   "cell_type": "markdown",
   "metadata": {},
   "source": [
    "# file handling"
   ]
  },
  {
   "cell_type": "code",
   "execution_count": 16,
   "metadata": {},
   "outputs": [],
   "source": [
    "file = open(\"a.txt\",\"w\")\n",
    "file.write(\"I am loving python\\nI wanna be data scientist\\nI am learning python\")\n",
    "file.close()"
   ]
  },
  {
   "cell_type": "code",
   "execution_count": 17,
   "metadata": {},
   "outputs": [
    {
     "name": "stdout",
     "output_type": "stream",
     "text": [
      "I am loving python\n",
      " I wanna be data scientist\n",
      " I am learning python "
     ]
    }
   ],
   "source": [
    "file = open(\"a.txt\",\"r\")\n",
    "for each in file:\n",
    "    print(each,end = \" \")\n",
    "file.close()    "
   ]
  },
  {
   "cell_type": "code",
   "execution_count": 18,
   "metadata": {},
   "outputs": [
    {
     "name": "stdout",
     "output_type": "stream",
     "text": [
      "the num of letters is : 65\n",
      "I am loving python\n",
      "I\n"
     ]
    }
   ],
   "source": [
    "with open(\"a.txt\",\"r\") as file:\n",
    "    sp = file.read()\n",
    "    l = len(sp)\n",
    "    print(\"the num of letters is :\",l)\n",
    "    print(sp[:20])\n",
    "    "
   ]
  },
  {
   "cell_type": "code",
   "execution_count": 19,
   "metadata": {},
   "outputs": [
    {
     "name": "stdout",
     "output_type": "stream",
     "text": [
      "num of lines: 3\n"
     ]
    }
   ],
   "source": [
    "c = 0\n",
    "file = open(\"a.txt\",\"r\")\n",
    "for lines in file:\n",
    "    c += 1\n",
    "print(\"num of lines:\",c)    \n",
    "file.close()"
   ]
  },
  {
   "cell_type": "code",
   "execution_count": 20,
   "metadata": {},
   "outputs": [
    {
     "name": "stdout",
     "output_type": "stream",
     "text": [
      "I am loving python\n",
      "\n",
      "I wanna be data scientist\n",
      "\n",
      "I am learning python\n"
     ]
    }
   ],
   "source": [
    "file = open(\"a.txt\",\"r\")\n",
    "for each in file:\n",
    "    print(each)\n",
    "file.close()    "
   ]
  },
  {
   "cell_type": "code",
   "execution_count": 21,
   "metadata": {},
   "outputs": [
    {
     "name": "stdout",
     "output_type": "stream",
     "text": [
      "I am loving python\n",
      "I wanna be data scientist\n",
      "I am learning python\n",
      "a.txt\n",
      "r\n"
     ]
    }
   ],
   "source": [
    "file = open(\"a.txt\",\"r\")\n",
    "print (file.read())\n",
    "print(file.name)\n",
    "print(file.mode)\n",
    "file.close()"
   ]
  },
  {
   "cell_type": "code",
   "execution_count": 22,
   "metadata": {},
   "outputs": [],
   "source": [
    "f = open(\"a.txt\")\n",
    "for line in f:\n",
    "    if line.startswith(\" \"):\n",
    "        print(line)"
   ]
  },
  {
   "cell_type": "code",
   "execution_count": 23,
   "metadata": {},
   "outputs": [
    {
     "name": "stdout",
     "output_type": "stream",
     "text": [
      "I am learning python\n"
     ]
    }
   ],
   "source": [
    "f = open(\"a.txt\")\n",
    "for line in f:\n",
    "    if line.find(\"learning\") != -1:\n",
    "        print(line)"
   ]
  },
  {
   "cell_type": "markdown",
   "metadata": {},
   "source": [
    "# Letting the user choose the ﬁle name\n"
   ]
  },
  {
   "cell_type": "code",
   "execution_count": 24,
   "metadata": {},
   "outputs": [
    {
     "name": "stdout",
     "output_type": "stream",
     "text": [
      "Enter the name of file: a.txt\n",
      "I am loving python\n",
      "I wanna be data scientist\n",
      "I am learning python\n"
     ]
    }
   ],
   "source": [
    "fname = input(\"Enter the name of file: \")\n",
    "f = open(fname)\n",
    "print(f.read())"
   ]
  },
  {
   "cell_type": "markdown",
   "metadata": {},
   "source": [
    "# Using try, except, and open\n"
   ]
  },
  {
   "cell_type": "code",
   "execution_count": 43,
   "metadata": {},
   "outputs": [
    {
     "name": "stdout",
     "output_type": "stream",
     "text": [
      "Enter the name of file: c.txt\n",
      "c.txt doesn't exixt in this folder\n",
      "\n"
     ]
    }
   ],
   "source": [
    "fname = input(\"Enter the name of file: \")\n",
    "try:\n",
    "    f = open(fname)\n",
    "except:\n",
    "    print(fname,\"doesn't exixt in this folder\")\n",
    "r = f.read()\n",
    "print(r)"
   ]
  },
  {
   "cell_type": "code",
   "execution_count": 26,
   "metadata": {},
   "outputs": [
    {
     "name": "stdout",
     "output_type": "stream",
     "text": [
      "I am loving python\n",
      "\n",
      "I wanna be data scientist\n",
      "\n",
      "I am learning python\n"
     ]
    }
   ],
   "source": [
    "f = open(\"a.txt\")\n",
    "print(f.readline())\n",
    "print(f.readline())\n",
    "print(f.readline())"
   ]
  },
  {
   "cell_type": "markdown",
   "metadata": {},
   "source": [
    "# Writing ﬁles"
   ]
  },
  {
   "cell_type": "code",
   "execution_count": 27,
   "metadata": {},
   "outputs": [],
   "source": [
    "f = open(\"b.txt\",\"w\")\n",
    "data = \"Hi, I am Zain\\nI am very excited to learn python \"\n",
    "f.write(data)\n",
    "f.close()\n"
   ]
  },
  {
   "cell_type": "code",
   "execution_count": 28,
   "metadata": {},
   "outputs": [
    {
     "name": "stdout",
     "output_type": "stream",
     "text": [
      "Hi, I am Zain\n",
      "I am very excited to learn python \n"
     ]
    }
   ],
   "source": [
    "f = open(\"b.txt\")\n",
    "print(f.read())"
   ]
  },
  {
   "cell_type": "code",
   "execution_count": 29,
   "metadata": {},
   "outputs": [
    {
     "name": "stdout",
     "output_type": "stream",
     "text": [
      "HI, I AM ZAIN\n",
      "\n",
      "I AM VERY EXCITED TO LEARN PYTHON \n"
     ]
    }
   ],
   "source": [
    "f = open(\"b.txt\")\n",
    "for line in f:\n",
    "    line = line.upper()\n",
    "    print(line)"
   ]
  },
  {
   "cell_type": "code",
   "execution_count": 30,
   "metadata": {},
   "outputs": [],
   "source": [
    "f = open(\"b.txt\",\"a\")\n",
    "f.write(\"\\nhuli hutu\")\n",
    "f.close()"
   ]
  },
  {
   "cell_type": "code",
   "execution_count": 31,
   "metadata": {},
   "outputs": [
    {
     "name": "stdout",
     "output_type": "stream",
     "text": [
      "Hi, I am Zain\n",
      "I am very excited to learn python \n",
      "huli hutu\n"
     ]
    }
   ],
   "source": [
    "f = open(\"b.txt\",\"r\")\n",
    "print(f.read())"
   ]
  },
  {
   "cell_type": "markdown",
   "metadata": {},
   "source": [
    "# split() using file handling"
   ]
  },
  {
   "cell_type": "code",
   "execution_count": 32,
   "metadata": {},
   "outputs": [
    {
     "name": "stdout",
     "output_type": "stream",
     "text": [
      "['Hi,', 'I', 'am', 'Zain']\n",
      "['I', 'am', 'very', 'excited', 'to', 'learn', 'python']\n",
      "['huli', 'hutu']\n"
     ]
    }
   ],
   "source": [
    "with open(\"b.txt\", \"r\") as file: \n",
    "    #data = file.readlines() \n",
    "    for line in file: \n",
    "        word = line.split() \n",
    "        print (word) "
   ]
  },
  {
   "cell_type": "markdown",
   "metadata": {},
   "source": [
    "# Python Delete File"
   ]
  },
  {
   "cell_type": "code",
   "execution_count": 1,
   "metadata": {},
   "outputs": [],
   "source": [
    "import os\n",
    "os.remove(\"a.txt\")"
   ]
  },
  {
   "cell_type": "code",
   "execution_count": 3,
   "metadata": {},
   "outputs": [],
   "source": [
    "from os import remove\n",
    "remove(\"a.ipynb\")"
   ]
  },
  {
   "cell_type": "code",
   "execution_count": 36,
   "metadata": {},
   "outputs": [
    {
     "name": "stdout",
     "output_type": "stream",
     "text": [
      "True\n",
      "True\n",
      "False\n"
     ]
    }
   ],
   "source": [
    "import os\n",
    "print(os.path.exists(\"a.txt\"))\n",
    "print(os.path.exists(\"b.txt\"))\n",
    "print(os.path.exists(\"c.txt\"))"
   ]
  },
  {
   "cell_type": "code",
   "execution_count": 38,
   "metadata": {},
   "outputs": [],
   "source": [
    "#You can only remove empty folders\n",
    "import os\n",
    "os.rmdir(\"fgh\")"
   ]
  },
  {
   "cell_type": "markdown",
   "metadata": {},
   "source": [
    "# Extracting useful data from file"
   ]
  },
  {
   "cell_type": "code",
   "execution_count": 44,
   "metadata": {},
   "outputs": [
    {
     "name": "stdout",
     "output_type": "stream",
     "text": [
      "Enter file name: mbox-short.txt\n",
      "Average spam confidence: 0.7507185185185187\n"
     ]
    }
   ],
   "source": [
    "# Use the file name mbox-short.txt as the file name\n",
    "c = 0\n",
    "s = 0\n",
    "fname = input(\"Enter file name: \")\n",
    "fh = open(fname)\n",
    "for line in fh:\n",
    "    if not line.startswith(\"X-DSPAM-Confidence:\") : continue\n",
    "    st = line.find(\"0\")\n",
    "    fh = line.find(\"\\n\")\n",
    "    l = line[st:fh]\n",
    "    fv = float(l)\n",
    "    s = s + fv\n",
    "    c += 1\n",
    "a = s / c    \n",
    "print(\"Average spam confidence:\",a) "
   ]
  },
  {
   "cell_type": "code",
   "execution_count": 48,
   "metadata": {},
   "outputs": [
    {
     "name": "stdout",
     "output_type": "stream",
     "text": [
      "['pining', 'for', 'the', 'fjords']\n"
     ]
    }
   ],
   "source": [
    "s = 'pining for the fjords' \n",
    "#t = s.split()\n",
    "#print(t)\n",
    "print(s.split())"
   ]
  },
  {
   "cell_type": "code",
   "execution_count": 53,
   "metadata": {},
   "outputs": [
    {
     "data": {
      "text/plain": [
       "'pining for the fjords'"
      ]
     },
     "execution_count": 53,
     "metadata": {},
     "output_type": "execute_result"
    }
   ],
   "source": [
    " t = ['pining', 'for', 'the', 'fjords'] \n",
    ">>> delimiter = ' ' \n",
    ">>> delimiter.join(t) "
   ]
  },
  {
   "cell_type": "code",
   "execution_count": 54,
   "metadata": {},
   "outputs": [
    {
     "data": {
      "text/plain": [
       "True"
      ]
     },
     "execution_count": 54,
     "metadata": {},
     "output_type": "execute_result"
    }
   ],
   "source": [
    " a = 'banana' \n",
    ">>> b = 'banana' \n",
    ">>> a is b"
   ]
  },
  {
   "cell_type": "code",
   "execution_count": 55,
   "metadata": {},
   "outputs": [
    {
     "data": {
      "text/plain": [
       "False"
      ]
     },
     "execution_count": 55,
     "metadata": {},
     "output_type": "execute_result"
    }
   ],
   "source": [
    "a = [1, 2, 3] \n",
    ">>> b = [1, 2, 3] \n",
    ">>> a is b"
   ]
  },
  {
   "cell_type": "code",
   "execution_count": 58,
   "metadata": {},
   "outputs": [
    {
     "name": "stdout",
     "output_type": "stream",
     "text": [
      "[1, 2, 3]\n",
      "None\n"
     ]
    }
   ],
   "source": [
    "t1 = [1, 2] \n",
    "t2 = t1.append(3)\n",
    "print(t1)\n",
    "print(t2)\n"
   ]
  },
  {
   "cell_type": "code",
   "execution_count": 60,
   "metadata": {},
   "outputs": [
    {
     "name": "stdout",
     "output_type": "stream",
     "text": [
      "['Sally']\n"
     ]
    }
   ],
   "source": [
    "friends = [ 'Joseph', 'Glenn', 'Sally' ]\n",
    "print(friends[2:1:-1])"
   ]
  },
  {
   "cell_type": "code",
   "execution_count": null,
   "metadata": {},
   "outputs": [],
   "source": []
  }
 ],
 "metadata": {
  "kernelspec": {
   "display_name": "Python 3",
   "language": "python",
   "name": "python3"
  },
  "language_info": {
   "codemirror_mode": {
    "name": "ipython",
    "version": 3
   },
   "file_extension": ".py",
   "mimetype": "text/x-python",
   "name": "python",
   "nbconvert_exporter": "python",
   "pygments_lexer": "ipython3",
   "version": "3.7.3"
  }
 },
 "nbformat": 4,
 "nbformat_minor": 2
}
