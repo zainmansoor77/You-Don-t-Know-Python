{
 "cells": [
  {
   "cell_type": "markdown",
   "metadata": {},
   "source": [
    "# string.punctuation in Python"
   ]
  },
  {
   "cell_type": "code",
   "execution_count": 7,
   "metadata": {},
   "outputs": [
    {
     "name": "stdout",
     "output_type": "stream",
     "text": [
      "!\"#$%&'()*+,-./:;<=>?@[\\]^_`{|}~\n"
     ]
    }
   ],
   "source": [
    "# import string library function  \n",
    "import string  \n",
    "    \n",
    "# Storing the sets of punctuation in variable result  \n",
    "result = string.punctuation\n",
    "    \n",
    "# Printing the punctuation values  \n",
    "print(result)"
   ]
  },
  {
   "cell_type": "code",
   "execution_count": 8,
   "metadata": {},
   "outputs": [
    {
     "name": "stdout",
     "output_type": "stream",
     "text": [
      "Punctuation: ,\n",
      "Punctuation: !\n",
      "Punctuation: ,\n",
      "Punctuation: ?\n"
     ]
    }
   ],
   "source": [
    "# import string library function  \n",
    "import string  \n",
    "    \n",
    "# An input string. \n",
    "Sentence = \"Hey, Zain !, How are you?\"\n",
    "  \n",
    "for i in Sentence: \n",
    "      \n",
    "    # checking wheather the char is punctuation. \n",
    "    if i in string.punctuation: \n",
    "          \n",
    "        # Printing the punctuation values  \n",
    "        print(\"Punctuation: \" + i) \n",
    "   "
   ]
  },
  {
   "cell_type": "code",
   "execution_count": null,
   "metadata": {},
   "outputs": [],
   "source": []
  }
 ],
 "metadata": {
  "kernelspec": {
   "display_name": "Python 3",
   "language": "python",
   "name": "python3"
  },
  "language_info": {
   "codemirror_mode": {
    "name": "ipython",
    "version": 3
   },
   "file_extension": ".py",
   "mimetype": "text/x-python",
   "name": "python",
   "nbconvert_exporter": "python",
   "pygments_lexer": "ipython3",
   "version": "3.7.3"
  }
 },
 "nbformat": 4,
 "nbformat_minor": 2
}
