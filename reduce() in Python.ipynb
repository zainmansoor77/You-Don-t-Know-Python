{
 "cells": [
  {
   "cell_type": "markdown",
   "metadata": {},
   "source": [
    "# reduce() in Python"
   ]
  },
  {
   "cell_type": "code",
   "execution_count": 12,
   "metadata": {},
   "outputs": [
    {
     "name": "stdout",
     "output_type": "stream",
     "text": [
      "the sum of elements in lis : 17\n"
     ]
    }
   ],
   "source": [
    "from functools import reduce\n",
    "lis = [1, 3, 5, 6, 2]\n",
    "print(\"the sum of elements in lis : \",end = \"\")\n",
    "a = reduce(lambda x, y, : x + y, lis )\n",
    "print(a)"
   ]
  },
  {
   "cell_type": "code",
   "execution_count": 15,
   "metadata": {},
   "outputs": [
    {
     "name": "stdout",
     "output_type": "stream",
     "text": [
      "The sum of the list elements is : 17\n"
     ]
    }
   ],
   "source": [
    "import functools \n",
    "  \n",
    "# initializing list \n",
    "lis = [ 1 , 3, 5, 6, 2, ] \n",
    "  \n",
    "# using reduce to compute sum of list \n",
    "print (\"The sum of the list elements is : \",end=\"\") \n",
    "print (functools.reduce(lambda a,b : a+b,lis)) "
   ]
  },
  {
   "cell_type": "code",
   "execution_count": 14,
   "metadata": {},
   "outputs": [
    {
     "name": "stdout",
     "output_type": "stream",
     "text": [
      "the max element in lis is : 6\n"
     ]
    }
   ],
   "source": [
    "from functools import reduce\n",
    "lis = [1, 3, 5, 6, 2]\n",
    "e = reduce(lambda x, y : x if x > y else y, lis)\n",
    "print(\"the max element in lis is : \",end = \"\")\n",
    "print(e)\n"
   ]
  },
  {
   "cell_type": "code",
   "execution_count": 23,
   "metadata": {},
   "outputs": [
    {
     "name": "stdout",
     "output_type": "stream",
     "text": [
      "The sum of the list elements is : 17\n",
      "The product of the list elements is : 180\n"
     ]
    }
   ],
   "source": [
    "from functools import reduce\n",
    "  \n",
    "# importing operator for operator functions \n",
    "from operator import add, mul\n",
    "  \n",
    "# initializing list \n",
    "lis = [ 1 , 3, 5, 6, 2 ] \n",
    "  \n",
    "# using reduce to compute sum of list \n",
    "# using operator functions \n",
    "print (\"The sum of the list elements is : \",end=\"\") \n",
    "print (reduce(add,lis)) \n",
    "print (\"The product of the list elements is : \",end=\"\") \n",
    "print (reduce(mul,lis))"
   ]
  },
  {
   "cell_type": "code",
   "execution_count": 27,
   "metadata": {},
   "outputs": [
    {
     "name": "stdout",
     "output_type": "stream",
     "text": [
      "The sum of the list elements is : 17\n",
      "The product of the list elements is : 180\n"
     ]
    }
   ],
   "source": [
    "from functools import reduce\n",
    "import operator\n",
    "\n",
    "lis = [ 1 , 3, 5, 6, 2, ] \n",
    "\n",
    "print (\"The sum of the list elements is : \",end=\"\") \n",
    "print (reduce(operator.add,lis))\n",
    "\n",
    "print (\"The product of the list elements is : \",end=\"\") \n",
    "print (reduce(operator.mul,lis))\n"
   ]
  },
  {
   "cell_type": "markdown",
   "metadata": {},
   "source": [
    "# accumulate() in python"
   ]
  },
  {
   "cell_type": "code",
   "execution_count": 30,
   "metadata": {},
   "outputs": [
    {
     "name": "stdout",
     "output_type": "stream",
     "text": [
      "The summation of list using accumulate is :[1, 4, 8, 18, 22]\n",
      "The summation of list using reduce is :22\n"
     ]
    }
   ],
   "source": [
    "from itertools import accumulate\n",
    "from functools import reduce\n",
    "\n",
    "lis = [ 1, 3, 4, 10, 4 ] \n",
    "\n",
    "print (\"The summation of list using accumulate is :\",end=\"\") \n",
    "print (list(accumulate(lis,lambda x,y : x+y))) \n",
    "\n",
    "print (\"The summation of list using reduce is :\",end=\"\") \n",
    "print (reduce(lambda x,y:x+y,lis))"
   ]
  },
  {
   "cell_type": "code",
   "execution_count": null,
   "metadata": {},
   "outputs": [],
   "source": []
  }
 ],
 "metadata": {
  "kernelspec": {
   "display_name": "Python 3",
   "language": "python",
   "name": "python3"
  },
  "language_info": {
   "codemirror_mode": {
    "name": "ipython",
    "version": 3
   },
   "file_extension": ".py",
   "mimetype": "text/x-python",
   "name": "python",
   "nbconvert_exporter": "python",
   "pygments_lexer": "ipython3",
   "version": "3.7.3"
  }
 },
 "nbformat": 4,
 "nbformat_minor": 2
}
