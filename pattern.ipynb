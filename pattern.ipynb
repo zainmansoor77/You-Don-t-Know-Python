{
 "cells": [
  {
   "cell_type": "markdown",
   "metadata": {},
   "source": [
    "# pattern"
   ]
  },
  {
   "cell_type": "code",
   "execution_count": 4,
   "metadata": {},
   "outputs": [
    {
     "name": "stdout",
     "output_type": "stream",
     "text": [
      "Enter the number of rows: 8\n",
      "1 \n",
      "2 1 \n",
      "4 2 1 \n",
      "8 4 2 1 \n",
      "16 8 4 2 1 \n",
      "32 16 8 4 2 1 \n",
      "64 32 16 8 4 2 1 \n",
      "128 64 32 16 8 4 2 1 \n"
     ]
    }
   ],
   "source": [
    "a = input(\"Enter the number of rows: \")\n",
    "try:\n",
    "    b = int(float(a))\n",
    "    k = 1\n",
    "    for i in range(1,b+1):\n",
    "        m = k\n",
    "        for j in range(1,i+1):\n",
    "            \n",
    "            print(m,end = \" \")\n",
    "            m = int(m / 2)\n",
    "        print(\"\") \n",
    "        k = k * 2\n",
    "except:\n",
    "    print(\"enter valid value\")\n",
    "    "
   ]
  },
  {
   "cell_type": "code",
   "execution_count": 3,
   "metadata": {},
   "outputs": [
    {
     "name": "stdout",
     "output_type": "stream",
     "text": [
      "10\n"
     ]
    }
   ],
   "source": [
    "print(10)"
   ]
  },
  {
   "cell_type": "code",
   "execution_count": null,
   "metadata": {},
   "outputs": [],
   "source": []
  }
 ],
 "metadata": {
  "kernelspec": {
   "display_name": "Python 3",
   "language": "python",
   "name": "python3"
  },
  "language_info": {
   "codemirror_mode": {
    "name": "ipython",
    "version": 3
   },
   "file_extension": ".py",
   "mimetype": "text/x-python",
   "name": "python",
   "nbconvert_exporter": "python",
   "pygments_lexer": "ipython3",
   "version": "3.7.3"
  }
 },
 "nbformat": 4,
 "nbformat_minor": 2
}
