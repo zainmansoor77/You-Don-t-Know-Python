{
 "cells": [
  {
   "cell_type": "markdown",
   "metadata": {},
   "source": [
    "# Grade calculator"
   ]
  },
  {
   "cell_type": "code",
   "execution_count": 26,
   "metadata": {},
   "outputs": [
    {
     "name": "stdout",
     "output_type": "stream",
     "text": [
      "Enter Score between 0.0 and 1.0: 0.85\n",
      "B\n"
     ]
    }
   ],
   "source": [
    "s = float(input(\"Enter Score between 0.0 and 1.0: \"))\n",
    "if s>=0.0 and s<=1.0:\n",
    "    if 0.9<=s<=1.0:\n",
    "        print(\"A\")\n",
    "    elif 0.8<=s<0.9:\n",
    "        print(\"B\")\n",
    "    elif 0.7<=s<0.8:\n",
    "        print(\"C\")\n",
    "    elif 0.6<=s<0.7:\n",
    "        print(\"D\") \n",
    "    else:\n",
    "         print(\"F\")  \n",
    "            \n",
    "else:\n",
    "    print(\"error\")"
   ]
  },
  {
   "cell_type": "code",
   "execution_count": null,
   "metadata": {},
   "outputs": [],
   "source": []
  }
 ],
 "metadata": {
  "kernelspec": {
   "display_name": "Python 3",
   "language": "python",
   "name": "python3"
  },
  "language_info": {
   "codemirror_mode": {
    "name": "ipython",
    "version": 3
   },
   "file_extension": ".py",
   "mimetype": "text/x-python",
   "name": "python",
   "nbconvert_exporter": "python",
   "pygments_lexer": "ipython3",
   "version": "3.7.3"
  }
 },
 "nbformat": 4,
 "nbformat_minor": 2
}
