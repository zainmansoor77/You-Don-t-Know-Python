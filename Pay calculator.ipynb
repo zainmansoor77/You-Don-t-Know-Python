{
 "cells": [
  {
   "cell_type": "code",
   "execution_count": 2,
   "metadata": {},
   "outputs": [
    {
     "name": "stdout",
     "output_type": "stream",
     "text": [
      "Enter Hours:45\n",
      "enter your hourly rates :10.5\n",
      "your total pay is:  498.75\n"
     ]
    }
   ],
   "source": [
    "h = input(\"Enter Hours:\")\n",
    "r = input(\"enter your hourly rates :\")\n",
    "try:\n",
    "    h = float(h)\n",
    "    r = float(r)\n",
    "except:\n",
    "    print(\"enter only numeric values only\")\n",
    "    quit() \n",
    "    \n",
    "if h>40:\n",
    "    pay = (h-40)*(1.5*r)+40*r\n",
    "else:\n",
    "    pay = h*r\n",
    "   \n",
    "print(\"your total pay is: \",pay)  "
   ]
  },
  {
   "cell_type": "code",
   "execution_count": null,
   "metadata": {},
   "outputs": [],
   "source": []
  }
 ],
 "metadata": {
  "kernelspec": {
   "display_name": "Python 3",
   "language": "python",
   "name": "python3"
  },
  "language_info": {
   "codemirror_mode": {
    "name": "ipython",
    "version": 3
   },
   "file_extension": ".py",
   "mimetype": "text/x-python",
   "name": "python",
   "nbconvert_exporter": "python",
   "pygments_lexer": "ipython3",
   "version": "3.7.3"
  }
 },
 "nbformat": 4,
 "nbformat_minor": 2
}
