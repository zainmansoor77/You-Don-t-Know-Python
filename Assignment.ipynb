{
 "cells": [
  {
   "cell_type": "markdown",
   "metadata": {},
   "source": [
    "# Assignment"
   ]
  },
  {
   "cell_type": "code",
   "execution_count": 16,
   "metadata": {},
   "outputs": [
    {
     "name": "stdout",
     "output_type": "stream",
     "text": [
      "Enter file name: romeo.txt\n",
      "['Arise', 'But', 'It', 'Juliet', 'Who', 'already', 'and', 'breaks', 'east', 'envious', 'fair', 'grief', 'is', 'kill', 'light', 'moon', 'pale', 'sick', 'soft', 'sun', 'the', 'through', 'what', 'window', 'with', 'yonder']\n"
     ]
    }
   ],
   "source": [
    "\"\"\"\n",
    "Open the file romeo.txt and read it line by line. For each line, split the line into a list of words using the split() \n",
    "method. The program should build a list of words. For each word on each line check to see if the word is already in the\n",
    "list and if not append it to the list. When the program completes, sort and print the resulting words in alphabetical \n",
    "order.\n",
    "You can download the sample data at http://www.py4e.com/code3/romeo.txt\n",
    "\"\"\"\n",
    "fname = input(\"Enter file name: \")\n",
    "fh = open(fname)\n",
    "lst = list()\n",
    "for line in fh:\n",
    "    # line = line.strip()\n",
    "    words = line.split()\n",
    "    lthw = len(words)\n",
    "    #lthl = len(lst)\n",
    "    for x in words: \n",
    "        #print(x)\n",
    "        if lst == []:\n",
    "            lst.append(x)\n",
    "            #print(lst)\n",
    "            lthl = len(lst)\n",
    "        else:\n",
    "            for i in range(lthl):\n",
    "                if not (x in lst):\n",
    "                    lst.append(x)\n",
    "                    lthl = len(lst)\n",
    "                    #print(lst)\n",
    "# lst = lst +words\n",
    "lst.sort()\n",
    "print(lst)\n",
    "#print(line.rstrip())\n"
   ]
  }
 ],
 "metadata": {
  "kernelspec": {
   "display_name": "Python 3",
   "language": "python",
   "name": "python3"
  },
  "language_info": {
   "codemirror_mode": {
    "name": "ipython",
    "version": 3
   },
   "file_extension": ".py",
   "mimetype": "text/x-python",
   "name": "python",
   "nbconvert_exporter": "python",
   "pygments_lexer": "ipython3",
   "version": "3.7.3"
  }
 },
 "nbformat": 4,
 "nbformat_minor": 2
}
