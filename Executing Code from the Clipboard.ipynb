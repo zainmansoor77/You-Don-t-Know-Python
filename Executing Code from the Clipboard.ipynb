{
 "cells": [
  {
   "cell_type": "markdown",
   "metadata": {},
   "source": [
    "# Executing Code from the Clipboard"
   ]
  },
  {
   "cell_type": "code",
   "execution_count": 24,
   "metadata": {},
   "outputs": [
    {
     "name": "stderr",
     "output_type": "stream",
     "text": [
      "UsageError: Line magic function `%paste` not found.\n"
     ]
    }
   ],
   "source": [
    "%paste\n",
    "x = 5\n",
    "y = 7\n",
    "if x > 5:\n",
    "    x += 1\n",
    "    y = 8\n",
    "print(x)    "
   ]
  },
  {
   "cell_type": "code",
   "execution_count": 10,
   "metadata": {},
   "outputs": [
    {
     "name": "stdout",
     "output_type": "stream",
     "text": [
      "5\n"
     ]
    }
   ],
   "source": [
    "x = 5\n",
    "y = 7\n",
    "if x > 5:\n",
    "    x += 1\n",
    "    y = 8\n",
    "print(x)        "
   ]
  },
  {
   "cell_type": "code",
   "execution_count": 23,
   "metadata": {},
   "outputs": [
    {
     "name": "stderr",
     "output_type": "stream",
     "text": [
      "UsageError: Line magic function `%cpaste` not found.\n"
     ]
    }
   ],
   "source": [
    "%cpaste"
   ]
  },
  {
   "cell_type": "code",
   "execution_count": null,
   "metadata": {},
   "outputs": [],
   "source": [
    "x = 5\n",
    "y = 7\n",
    "if x > 5:\n",
    "    x += 1\n",
    "    y = 8\n",
    "print(x)  "
   ]
  },
  {
   "cell_type": "code",
   "execution_count": 27,
   "metadata": {},
   "outputs": [
    {
     "name": "stdout",
     "output_type": "stream",
     "text": [
      "[[-0.18213598 -0.39377177  1.19809759 ... -0.04764837  0.58074514\n",
      "  -0.51892855]\n",
      " [-1.62477974 -1.43046546  1.23441362 ... -0.36937285  1.27809516\n",
      "   0.82184842]\n",
      " [ 0.30360302  0.62587527  0.10541617 ...  0.55335601  0.75598766\n",
      "   2.74371851]\n",
      " ...\n",
      " [-0.77547961 -0.37125904  1.52420359 ...  0.10886834 -0.28298983\n",
      "   0.45921442]\n",
      " [-1.15041191  1.30511082 -0.42952126 ...  1.76154105 -0.38696909\n",
      "  -1.04172646]\n",
      " [-0.19633426  0.52344166  1.75314935 ...  0.08728672  1.09279286\n",
      "  -1.12707771]]\n"
     ]
    }
   ],
   "source": [
    "import numpy as np\n",
    "a = np.random.randn(100, 100)\n",
    "print(a)"
   ]
  },
  {
   "cell_type": "code",
   "execution_count": null,
   "metadata": {},
   "outputs": [],
   "source": []
  }
 ],
 "metadata": {
  "kernelspec": {
   "display_name": "Python 3",
   "language": "python",
   "name": "python3"
  },
  "language_info": {
   "codemirror_mode": {
    "name": "ipython",
    "version": 3
   },
   "file_extension": ".py",
   "mimetype": "text/x-python",
   "name": "python",
   "nbconvert_exporter": "python",
   "pygments_lexer": "ipython3",
   "version": "3.7.3"
  }
 },
 "nbformat": 4,
 "nbformat_minor": 2
}
