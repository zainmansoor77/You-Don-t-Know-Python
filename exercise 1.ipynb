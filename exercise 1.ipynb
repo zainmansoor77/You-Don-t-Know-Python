{
 "cells": [
  {
   "cell_type": "markdown",
   "metadata": {},
   "source": [
    "# exercise 1"
   ]
  },
  {
   "cell_type": "code",
   "execution_count": 34,
   "metadata": {},
   "outputs": [
    {
     "name": "stdout",
     "output_type": "stream",
     "text": [
      "enter the number  4\n",
      "enter the number  5\n",
      "enter the number  bad data\n",
      "Invalid input\n",
      "enter the number  7\n",
      "enter the number  DoNe\n",
      "total is :  16.0\n",
      "count is :  3\n",
      "average is :  5.333333333333333\n"
     ]
    }
   ],
   "source": [
    "\"\"\"\n",
    "Exercise 1: Write a program which repeatedly reads numbers until the\n",
    "user enters “done”. Once “done” is entered, print out the total, count,\n",
    "and average of the numbers. If the user enters anything other than a\n",
    "number, detect their mistake using try and except and print an error\n",
    "message and skip to the next number.\n",
    "\n",
    "Enter a number: 4\n",
    "Enter a number: 5\n",
    "Enter a number: bad data\n",
    "Invalid input\n",
    "Enter a number: 7\n",
    "Enter a number: done\n",
    "16 3 5.333333333333333\n",
    "\n",
    "\"\"\"\n",
    "\n",
    "input_num = None\n",
    "count = total = average = 0\n",
    "while  True:\n",
    "    a = input(\"enter the number  \")\n",
    "    input_num = a.lower()\n",
    "    if input_num != \"done\":\n",
    "        try:\n",
    "            input_num = float(input_num)\n",
    "        except:\n",
    "            print(\"Invalid input\")\n",
    "            continue\n",
    "            \n",
    "    else:\n",
    "        break\n",
    "    count += 1\n",
    "    total += input_num\n",
    "print(\"total is : \",total)\n",
    "print(\"count is : \",count)\n",
    "print(\"average is : \",total/count)\n",
    "        "
   ]
  },
  {
   "cell_type": "code",
   "execution_count": null,
   "metadata": {},
   "outputs": [],
   "source": []
  }
 ],
 "metadata": {
  "kernelspec": {
   "display_name": "Python 3",
   "language": "python",
   "name": "python3"
  },
  "language_info": {
   "codemirror_mode": {
    "name": "ipython",
    "version": 3
   },
   "file_extension": ".py",
   "mimetype": "text/x-python",
   "name": "python",
   "nbconvert_exporter": "python",
   "pygments_lexer": "ipython3",
   "version": "3.7.3"
  }
 },
 "nbformat": 4,
 "nbformat_minor": 2
}
